{
 "cells": [
  {
   "cell_type": "code",
   "execution_count": 2,
   "metadata": {},
   "outputs": [],
   "source": [
    "import pandas as pd\n",
    "import re\n",
    "import time"
   ]
  },
  {
   "cell_type": "code",
   "execution_count": 3,
   "metadata": {},
   "outputs": [
    {
     "data": {
      "text/html": [
       "<div>\n",
       "<style scoped>\n",
       "    .dataframe tbody tr th:only-of-type {\n",
       "        vertical-align: middle;\n",
       "    }\n",
       "\n",
       "    .dataframe tbody tr th {\n",
       "        vertical-align: top;\n",
       "    }\n",
       "\n",
       "    .dataframe thead th {\n",
       "        text-align: right;\n",
       "    }\n",
       "</style>\n",
       "<table border=\"1\" class=\"dataframe\">\n",
       "  <thead>\n",
       "    <tr style=\"text-align: right;\">\n",
       "      <th></th>\n",
       "      <th>id</th>\n",
       "      <th>text</th>\n",
       "      <th>user_id</th>\n",
       "      <th>user_name</th>\n",
       "      <th>to_date</th>\n",
       "    </tr>\n",
       "  </thead>\n",
       "  <tbody>\n",
       "    <tr>\n",
       "      <th>34502</th>\n",
       "      <td>1050762007727751168</td>\n",
       "      <td>Republicans decry Dems 'mob rule,' flipping sc...</td>\n",
       "      <td>219913524</td>\n",
       "      <td>moraro456</td>\n",
       "      <td>2018-10-12</td>\n",
       "    </tr>\n",
       "  </tbody>\n",
       "</table>\n",
       "</div>"
      ],
      "text/plain": [
       "                        id                                               text  \\\n",
       "34502  1050762007727751168  Republicans decry Dems 'mob rule,' flipping sc...   \n",
       "\n",
       "         user_id  user_name     to_date  \n",
       "34502  219913524  moraro456  2018-10-12  "
      ]
     },
     "execution_count": 3,
     "metadata": {},
     "output_type": "execute_result"
    }
   ],
   "source": [
    "df = pd.read_csv('tweets_users_period.csv')\n",
    "df.sample()"
   ]
  },
  {
   "cell_type": "markdown",
   "metadata": {},
   "source": [
    "## Detect rt"
   ]
  },
  {
   "cell_type": "code",
   "execution_count": 4,
   "metadata": {},
   "outputs": [],
   "source": [
    "def detect_rt(row):\n",
    "    PATTERN = 'RT @'\n",
    "    \n",
    "    if PATTERN in row['text']:\n",
    "        initial_rt = row['text'].index(PATTERN)\n",
    "        text_from_rt = row['text'][initial_rt + len(PATTERN):]\n",
    "        rt_from = text_from_rt[:text_from_rt.find(':')].strip()\n",
    "        row['rt_from'] = rt_from\n",
    "\n",
    "    return row"
   ]
  },
  {
   "cell_type": "code",
   "execution_count": 5,
   "metadata": {
    "scrolled": false
   },
   "outputs": [
    {
     "data": {
      "text/html": [
       "<div>\n",
       "<style scoped>\n",
       "    .dataframe tbody tr th:only-of-type {\n",
       "        vertical-align: middle;\n",
       "    }\n",
       "\n",
       "    .dataframe tbody tr th {\n",
       "        vertical-align: top;\n",
       "    }\n",
       "\n",
       "    .dataframe thead th {\n",
       "        text-align: right;\n",
       "    }\n",
       "</style>\n",
       "<table border=\"1\" class=\"dataframe\">\n",
       "  <thead>\n",
       "    <tr style=\"text-align: right;\">\n",
       "      <th></th>\n",
       "      <th>id</th>\n",
       "      <th>rt_from</th>\n",
       "      <th>text</th>\n",
       "      <th>to_date</th>\n",
       "      <th>user_id</th>\n",
       "      <th>user_name</th>\n",
       "    </tr>\n",
       "  </thead>\n",
       "  <tbody>\n",
       "    <tr>\n",
       "      <th>0</th>\n",
       "      <td>1006016894560763904</td>\n",
       "      <td>NaN</td>\n",
       "      <td>I don't know where the weekend went. I was so ...</td>\n",
       "      <td>2018-06-11</td>\n",
       "      <td>27823262</td>\n",
       "      <td>donkolenda</td>\n",
       "    </tr>\n",
       "    <tr>\n",
       "      <th>1</th>\n",
       "      <td>1006017578194612224</td>\n",
       "      <td>NaN</td>\n",
       "      <td>God our Father, as we have celebrated today th...</td>\n",
       "      <td>2018-06-11</td>\n",
       "      <td>27823262</td>\n",
       "      <td>donkolenda</td>\n",
       "    </tr>\n",
       "    <tr>\n",
       "      <th>2</th>\n",
       "      <td>1006120674786725888</td>\n",
       "      <td>NaN</td>\n",
       "      <td>@netdog713 @GOP We should abolish political pa...</td>\n",
       "      <td>2018-06-11</td>\n",
       "      <td>17322758</td>\n",
       "      <td>rob_blue</td>\n",
       "    </tr>\n",
       "    <tr>\n",
       "      <th>3</th>\n",
       "      <td>1006125685675646976</td>\n",
       "      <td>NaN</td>\n",
       "      <td>Bring it. https://t.co/Rf4Bsi2V0r</td>\n",
       "      <td>2018-06-11</td>\n",
       "      <td>17322758</td>\n",
       "      <td>rob_blue</td>\n",
       "    </tr>\n",
       "    <tr>\n",
       "      <th>4</th>\n",
       "      <td>1006130726725672960</td>\n",
       "      <td>NaN</td>\n",
       "      <td>My God he looks like a manatee with an ill-fit...</td>\n",
       "      <td>2018-06-11</td>\n",
       "      <td>17322758</td>\n",
       "      <td>rob_blue</td>\n",
       "    </tr>\n",
       "  </tbody>\n",
       "</table>\n",
       "</div>"
      ],
      "text/plain": [
       "                    id rt_from  \\\n",
       "0  1006016894560763904     NaN   \n",
       "1  1006017578194612224     NaN   \n",
       "2  1006120674786725888     NaN   \n",
       "3  1006125685675646976     NaN   \n",
       "4  1006130726725672960     NaN   \n",
       "\n",
       "                                                text     to_date   user_id  \\\n",
       "0  I don't know where the weekend went. I was so ...  2018-06-11  27823262   \n",
       "1  God our Father, as we have celebrated today th...  2018-06-11  27823262   \n",
       "2  @netdog713 @GOP We should abolish political pa...  2018-06-11  17322758   \n",
       "3                  Bring it. https://t.co/Rf4Bsi2V0r  2018-06-11  17322758   \n",
       "4  My God he looks like a manatee with an ill-fit...  2018-06-11  17322758   \n",
       "\n",
       "    user_name  \n",
       "0  donkolenda  \n",
       "1  donkolenda  \n",
       "2    rob_blue  \n",
       "3    rob_blue  \n",
       "4    rob_blue  "
      ]
     },
     "execution_count": 5,
     "metadata": {},
     "output_type": "execute_result"
    }
   ],
   "source": [
    "df = df.apply(detect_rt, axis=1)\n",
    "df.head()"
   ]
  },
  {
   "cell_type": "markdown",
   "metadata": {},
   "source": [
    "## Detect mentions"
   ]
  },
  {
   "cell_type": "code",
   "execution_count": 6,
   "metadata": {},
   "outputs": [],
   "source": [
    "def detect_mentions(row):\n",
    "    PATTERN = '@'\n",
    "\n",
    "    tweet_text = row['text']\n",
    "    tweet_text = tweet_text.replace('RT @', '')\n",
    "    if PATTERN in tweet_text:\n",
    "\n",
    "        mentions_users = []\n",
    "\n",
    "        indexes = [m.start() for m in re.finditer(PATTERN, tweet_text)]\n",
    "        for index in indexes:\n",
    "            text_from_mt = tweet_text[index + len(PATTERN):]\n",
    "            mt_from = text_from_mt[:text_from_mt.find(' ')].strip()\n",
    "            mentions_users.append(mt_from)\n",
    "        \n",
    "        row['mentions'] = mentions_users\n",
    "\n",
    "    return row"
   ]
  },
  {
   "cell_type": "code",
   "execution_count": 7,
   "metadata": {},
   "outputs": [
    {
     "data": {
      "text/html": [
       "<div>\n",
       "<style scoped>\n",
       "    .dataframe tbody tr th:only-of-type {\n",
       "        vertical-align: middle;\n",
       "    }\n",
       "\n",
       "    .dataframe tbody tr th {\n",
       "        vertical-align: top;\n",
       "    }\n",
       "\n",
       "    .dataframe thead th {\n",
       "        text-align: right;\n",
       "    }\n",
       "</style>\n",
       "<table border=\"1\" class=\"dataframe\">\n",
       "  <thead>\n",
       "    <tr style=\"text-align: right;\">\n",
       "      <th></th>\n",
       "      <th>id</th>\n",
       "      <th>mentions</th>\n",
       "      <th>rt_from</th>\n",
       "      <th>text</th>\n",
       "      <th>to_date</th>\n",
       "      <th>user_id</th>\n",
       "      <th>user_name</th>\n",
       "    </tr>\n",
       "  </thead>\n",
       "  <tbody>\n",
       "    <tr>\n",
       "      <th>39175</th>\n",
       "      <td>1055640460792713216</td>\n",
       "      <td>[nytimesphoto:, realdonaldtrump]</td>\n",
       "      <td>NaN</td>\n",
       "      <td>From '@nytimesphoto: #LIAR #moroninchief #sexu...</td>\n",
       "      <td>2018-10-26</td>\n",
       "      <td>32552440</td>\n",
       "      <td>MichelleMazuros</td>\n",
       "    </tr>\n",
       "  </tbody>\n",
       "</table>\n",
       "</div>"
      ],
      "text/plain": [
       "                        id                          mentions rt_from  \\\n",
       "39175  1055640460792713216  [nytimesphoto:, realdonaldtrump]     NaN   \n",
       "\n",
       "                                                    text     to_date  \\\n",
       "39175  From '@nytimesphoto: #LIAR #moroninchief #sexu...  2018-10-26   \n",
       "\n",
       "        user_id        user_name  \n",
       "39175  32552440  MichelleMazuros  "
      ]
     },
     "execution_count": 7,
     "metadata": {},
     "output_type": "execute_result"
    }
   ],
   "source": [
    "df = df.apply(detect_mentions, axis=1)\n",
    "df.sample()"
   ]
  },
  {
   "cell_type": "markdown",
   "metadata": {},
   "source": [
    "## Get followers"
   ]
  },
  {
   "cell_type": "code",
   "execution_count": 8,
   "metadata": {},
   "outputs": [],
   "source": [
    "import tweepy\n",
    "\n",
    "# Go to http://apps.twitter.com and create an app.\n",
    "# The consumer key and secret will be generated for you after\n",
    "consumer_key = ''\n",
    "consumer_secret = ''\n",
    "\n",
    "# The access tokens can be found on your applications's Details\n",
    "# page located at https://dev.twitter.com/apps (located\n",
    "# under \"Your access token\")\n",
    "access_token = ''\n",
    "access_token_secret = ''"
   ]
  },
  {
   "cell_type": "code",
   "execution_count": 9,
   "metadata": {},
   "outputs": [],
   "source": [
    "auth = tweepy.OAuthHandler(consumer_key, consumer_secret)\n",
    "auth.set_access_token(access_token, access_token_secret)"
   ]
  },
  {
   "cell_type": "code",
   "execution_count": 10,
   "metadata": {},
   "outputs": [],
   "source": [
    "api = tweepy.API(auth)"
   ]
  },
  {
   "cell_type": "code",
   "execution_count": 11,
   "metadata": {},
   "outputs": [
    {
     "name": "stdout",
     "output_type": "stream",
     "text": [
      "User GAngeli1993 not found\n",
      "User slbasketballmom not found\n",
      "User robsaghafi not found\n",
      "User JohnnyTSollitto not found\n"
     ]
    }
   ],
   "source": [
    "user_names = df['user_name'].unique()\n",
    "user_followers = []\n",
    "\n",
    "for username in user_names:\n",
    "    try:\n",
    "        user = api.get_user(username)\n",
    "        followers_counts = user.followers_count\n",
    "        user_followers.append({'user_name':username,\n",
    "                               'followers_count':followers_counts})\n",
    "        time.sleep(1)\n",
    "    except:\n",
    "        print('User {} not found'.format(username))"
   ]
  },
  {
   "cell_type": "code",
   "execution_count": 12,
   "metadata": {},
   "outputs": [
    {
     "data": {
      "text/html": [
       "<div>\n",
       "<style scoped>\n",
       "    .dataframe tbody tr th:only-of-type {\n",
       "        vertical-align: middle;\n",
       "    }\n",
       "\n",
       "    .dataframe tbody tr th {\n",
       "        vertical-align: top;\n",
       "    }\n",
       "\n",
       "    .dataframe thead th {\n",
       "        text-align: right;\n",
       "    }\n",
       "</style>\n",
       "<table border=\"1\" class=\"dataframe\">\n",
       "  <thead>\n",
       "    <tr style=\"text-align: right;\">\n",
       "      <th></th>\n",
       "      <th>followers_count</th>\n",
       "      <th>user_name</th>\n",
       "    </tr>\n",
       "  </thead>\n",
       "  <tbody>\n",
       "    <tr>\n",
       "      <th>108</th>\n",
       "      <td>4544</td>\n",
       "      <td>ECHOisthename</td>\n",
       "    </tr>\n",
       "  </tbody>\n",
       "</table>\n",
       "</div>"
      ],
      "text/plain": [
       "     followers_count      user_name\n",
       "108             4544  ECHOisthename"
      ]
     },
     "execution_count": 12,
     "metadata": {},
     "output_type": "execute_result"
    }
   ],
   "source": [
    "df_user_followers = pd.DataFrame(user_followers)\n",
    "df_user_followers.sample()"
   ]
  },
  {
   "cell_type": "markdown",
   "metadata": {},
   "source": [
    "## Interactor Ratio\n",
    "- RT3 Number of users who have retweeted author’s tweets.\n",
    "- M4 Number of users mentioning the author\n",
    "- F1 Number of followers"
   ]
  },
  {
   "cell_type": "code",
   "execution_count": 13,
   "metadata": {},
   "outputs": [],
   "source": [
    "user_names = df['user_name'].unique()"
   ]
  },
  {
   "cell_type": "markdown",
   "metadata": {},
   "source": [
    "### RT3"
   ]
  },
  {
   "cell_type": "code",
   "execution_count": 14,
   "metadata": {},
   "outputs": [],
   "source": [
    "rt3 = []\n",
    "\n",
    "for user in user_names:\n",
    "    df_rt_users = df.dropna(subset=['rt_from'])[['rt_from','user_name']].drop_duplicates()\n",
    "    n_rt = len(df_rt_users.loc[df_rt_users['rt_from'] == user.strip()])\n",
    "    rt3.append({'user_name':user, 'rt3':n_rt})"
   ]
  },
  {
   "cell_type": "code",
   "execution_count": 16,
   "metadata": {},
   "outputs": [
    {
     "data": {
      "text/html": [
       "<div>\n",
       "<style scoped>\n",
       "    .dataframe tbody tr th:only-of-type {\n",
       "        vertical-align: middle;\n",
       "    }\n",
       "\n",
       "    .dataframe tbody tr th {\n",
       "        vertical-align: top;\n",
       "    }\n",
       "\n",
       "    .dataframe thead th {\n",
       "        text-align: right;\n",
       "    }\n",
       "</style>\n",
       "<table border=\"1\" class=\"dataframe\">\n",
       "  <thead>\n",
       "    <tr style=\"text-align: right;\">\n",
       "      <th></th>\n",
       "      <th>rt3</th>\n",
       "      <th>user_name</th>\n",
       "    </tr>\n",
       "  </thead>\n",
       "  <tbody>\n",
       "    <tr>\n",
       "      <th>197</th>\n",
       "      <td>0</td>\n",
       "      <td>KatiaPriceless</td>\n",
       "    </tr>\n",
       "  </tbody>\n",
       "</table>\n",
       "</div>"
      ],
      "text/plain": [
       "     rt3       user_name\n",
       "197    0  KatiaPriceless"
      ]
     },
     "execution_count": 16,
     "metadata": {},
     "output_type": "execute_result"
    }
   ],
   "source": [
    "df_rt3 = pd.DataFrame(rt3)\n",
    "df_rt3.sort_values('rt3', ascending=False).sample()"
   ]
  },
  {
   "cell_type": "markdown",
   "metadata": {},
   "source": [
    "### M4"
   ]
  },
  {
   "cell_type": "code",
   "execution_count": 17,
   "metadata": {},
   "outputs": [
    {
     "data": {
      "text/html": [
       "<div>\n",
       "<style scoped>\n",
       "    .dataframe tbody tr th:only-of-type {\n",
       "        vertical-align: middle;\n",
       "    }\n",
       "\n",
       "    .dataframe tbody tr th {\n",
       "        vertical-align: top;\n",
       "    }\n",
       "\n",
       "    .dataframe thead th {\n",
       "        text-align: right;\n",
       "    }\n",
       "</style>\n",
       "<table border=\"1\" class=\"dataframe\">\n",
       "  <thead>\n",
       "    <tr style=\"text-align: right;\">\n",
       "      <th></th>\n",
       "      <th>mentions</th>\n",
       "      <th>user_name</th>\n",
       "    </tr>\n",
       "  </thead>\n",
       "  <tbody>\n",
       "    <tr>\n",
       "      <th>30288</th>\n",
       "      <td>[]</td>\n",
       "      <td>Naztitle01</td>\n",
       "    </tr>\n",
       "  </tbody>\n",
       "</table>\n",
       "</div>"
      ],
      "text/plain": [
       "      mentions   user_name\n",
       "30288       []  Naztitle01"
      ]
     },
     "execution_count": 17,
     "metadata": {},
     "output_type": "execute_result"
    }
   ],
   "source": [
    "df_mentions = df.dropna(subset=['mentions'])[['mentions','user_name']]\n",
    "df_mentions.sample()"
   ]
  },
  {
   "cell_type": "code",
   "execution_count": 18,
   "metadata": {},
   "outputs": [
    {
     "data": {
      "text/html": [
       "<div>\n",
       "<style scoped>\n",
       "    .dataframe tbody tr th:only-of-type {\n",
       "        vertical-align: middle;\n",
       "    }\n",
       "\n",
       "    .dataframe tbody tr th {\n",
       "        vertical-align: top;\n",
       "    }\n",
       "\n",
       "    .dataframe thead th {\n",
       "        text-align: right;\n",
       "    }\n",
       "</style>\n",
       "<table border=\"1\" class=\"dataframe\">\n",
       "  <thead>\n",
       "    <tr style=\"text-align: right;\">\n",
       "      <th></th>\n",
       "      <th>user_name</th>\n",
       "      <th>user_mention</th>\n",
       "    </tr>\n",
       "  </thead>\n",
       "  <tbody>\n",
       "    <tr>\n",
       "      <th>14423</th>\n",
       "      <td>StaceyPaige27</td>\n",
       "      <td>patricksean333</td>\n",
       "    </tr>\n",
       "  </tbody>\n",
       "</table>\n",
       "</div>"
      ],
      "text/plain": [
       "           user_name    user_mention\n",
       "14423  StaceyPaige27  patricksean333"
      ]
     },
     "execution_count": 18,
     "metadata": {},
     "output_type": "execute_result"
    }
   ],
   "source": [
    "df_mentions_tuples = df_mentions.mentions.apply(pd.Series) \\\n",
    "                        .merge(df_mentions, right_index = True, left_index = True) \\\n",
    "                        .drop([\"mentions\"], axis = 1) \\\n",
    "                        .melt(id_vars = ['user_name'], value_name = \"user_mention\") \\\n",
    "                        .drop(\"variable\", axis = 1) \\\n",
    "                        .dropna().drop_duplicates()\n",
    "    \n",
    "df_mentions_tuples.sample()"
   ]
  },
  {
   "cell_type": "code",
   "execution_count": 20,
   "metadata": {},
   "outputs": [],
   "source": [
    "m4 = []\n",
    "\n",
    "for user in user_names:\n",
    "    n_rt = len(df_mentions_tuples.loc[df_mentions_tuples['user_mention'] == user.strip()])\n",
    "    m4.append({'user_name':user, 'm4':n_rt})"
   ]
  },
  {
   "cell_type": "code",
   "execution_count": 21,
   "metadata": {},
   "outputs": [
    {
     "data": {
      "text/html": [
       "<div>\n",
       "<style scoped>\n",
       "    .dataframe tbody tr th:only-of-type {\n",
       "        vertical-align: middle;\n",
       "    }\n",
       "\n",
       "    .dataframe tbody tr th {\n",
       "        vertical-align: top;\n",
       "    }\n",
       "\n",
       "    .dataframe thead th {\n",
       "        text-align: right;\n",
       "    }\n",
       "</style>\n",
       "<table border=\"1\" class=\"dataframe\">\n",
       "  <thead>\n",
       "    <tr style=\"text-align: right;\">\n",
       "      <th></th>\n",
       "      <th>m4</th>\n",
       "      <th>user_name</th>\n",
       "    </tr>\n",
       "  </thead>\n",
       "  <tbody>\n",
       "    <tr>\n",
       "      <th>130</th>\n",
       "      <td>0</td>\n",
       "      <td>WJSClanton</td>\n",
       "    </tr>\n",
       "  </tbody>\n",
       "</table>\n",
       "</div>"
      ],
      "text/plain": [
       "     m4   user_name\n",
       "130   0  WJSClanton"
      ]
     },
     "execution_count": 21,
     "metadata": {},
     "output_type": "execute_result"
    }
   ],
   "source": [
    "df_m4 = pd.DataFrame(m4)\n",
    "df_m4.sort_values('m4', ascending=False).sample()"
   ]
  },
  {
   "cell_type": "markdown",
   "metadata": {},
   "source": [
    "### Interactor Ratio"
   ]
  },
  {
   "cell_type": "code",
   "execution_count": 22,
   "metadata": {},
   "outputs": [
    {
     "data": {
      "text/html": [
       "<div>\n",
       "<style scoped>\n",
       "    .dataframe tbody tr th:only-of-type {\n",
       "        vertical-align: middle;\n",
       "    }\n",
       "\n",
       "    .dataframe tbody tr th {\n",
       "        vertical-align: top;\n",
       "    }\n",
       "\n",
       "    .dataframe thead th {\n",
       "        text-align: right;\n",
       "    }\n",
       "</style>\n",
       "<table border=\"1\" class=\"dataframe\">\n",
       "  <thead>\n",
       "    <tr style=\"text-align: right;\">\n",
       "      <th></th>\n",
       "      <th>followers_count</th>\n",
       "      <th>user_name</th>\n",
       "      <th>rt3</th>\n",
       "      <th>m4</th>\n",
       "    </tr>\n",
       "  </thead>\n",
       "  <tbody>\n",
       "    <tr>\n",
       "      <th>104</th>\n",
       "      <td>1997.0</td>\n",
       "      <td>paddywhackspub</td>\n",
       "      <td>0</td>\n",
       "      <td>0</td>\n",
       "    </tr>\n",
       "  </tbody>\n",
       "</table>\n",
       "</div>"
      ],
      "text/plain": [
       "     followers_count       user_name  rt3  m4\n",
       "104           1997.0  paddywhackspub    0   0"
      ]
     },
     "execution_count": 22,
     "metadata": {},
     "output_type": "execute_result"
    }
   ],
   "source": [
    "df_ff_rt3 = pd.merge(df_user_followers, df_rt3, how='outer', on='user_name')\n",
    "df_ir = pd.merge(df_ff_rt3, df_m4, how='outer', on='user_name')\n",
    "df_ir.sample()"
   ]
  },
  {
   "cell_type": "code",
   "execution_count": 23,
   "metadata": {},
   "outputs": [],
   "source": [
    "df_ir['interactor_ratio']  = df_ir.apply(lambda x:(x.rt3 + x.m4)/x.followers_count ,axis=1 )"
   ]
  },
  {
   "cell_type": "code",
   "execution_count": 24,
   "metadata": {},
   "outputs": [
    {
     "data": {
      "text/html": [
       "<div>\n",
       "<style scoped>\n",
       "    .dataframe tbody tr th:only-of-type {\n",
       "        vertical-align: middle;\n",
       "    }\n",
       "\n",
       "    .dataframe tbody tr th {\n",
       "        vertical-align: top;\n",
       "    }\n",
       "\n",
       "    .dataframe thead th {\n",
       "        text-align: right;\n",
       "    }\n",
       "</style>\n",
       "<table border=\"1\" class=\"dataframe\">\n",
       "  <thead>\n",
       "    <tr style=\"text-align: right;\">\n",
       "      <th></th>\n",
       "      <th>followers_count</th>\n",
       "      <th>user_name</th>\n",
       "      <th>rt3</th>\n",
       "      <th>m4</th>\n",
       "      <th>interactor_ratio</th>\n",
       "    </tr>\n",
       "  </thead>\n",
       "  <tbody>\n",
       "    <tr>\n",
       "      <th>103</th>\n",
       "      <td>1435.0</td>\n",
       "      <td>ILLANOIZ</td>\n",
       "      <td>0</td>\n",
       "      <td>1</td>\n",
       "      <td>0.000697</td>\n",
       "    </tr>\n",
       "  </tbody>\n",
       "</table>\n",
       "</div>"
      ],
      "text/plain": [
       "     followers_count user_name  rt3  m4  interactor_ratio\n",
       "103           1435.0  ILLANOIZ    0   1          0.000697"
      ]
     },
     "execution_count": 24,
     "metadata": {},
     "output_type": "execute_result"
    }
   ],
   "source": [
    "df_ir.sort_values('interactor_ratio', ascending=False).sample()"
   ]
  },
  {
   "cell_type": "markdown",
   "metadata": {},
   "source": [
    "## Retweet and Mention Ratio\n",
    "\n",
    "- #tweets of i retweeted\n",
    "- #tweets of i replied\n",
    "- #tweets of i"
   ]
  },
  {
   "cell_type": "code",
   "execution_count": 25,
   "metadata": {},
   "outputs": [
    {
     "data": {
      "text/html": [
       "<div>\n",
       "<style scoped>\n",
       "    .dataframe tbody tr th:only-of-type {\n",
       "        vertical-align: middle;\n",
       "    }\n",
       "\n",
       "    .dataframe tbody tr th {\n",
       "        vertical-align: top;\n",
       "    }\n",
       "\n",
       "    .dataframe thead th {\n",
       "        text-align: right;\n",
       "    }\n",
       "</style>\n",
       "<table border=\"1\" class=\"dataframe\">\n",
       "  <thead>\n",
       "    <tr style=\"text-align: right;\">\n",
       "      <th></th>\n",
       "      <th>user_name</th>\n",
       "      <th>n_tweets</th>\n",
       "    </tr>\n",
       "  </thead>\n",
       "  <tbody>\n",
       "    <tr>\n",
       "      <th>148</th>\n",
       "      <td>ILLANOIZ</td>\n",
       "      <td>28</td>\n",
       "    </tr>\n",
       "  </tbody>\n",
       "</table>\n",
       "</div>"
      ],
      "text/plain": [
       "    user_name  n_tweets\n",
       "148  ILLANOIZ        28"
      ]
     },
     "execution_count": 25,
     "metadata": {},
     "output_type": "execute_result"
    }
   ],
   "source": [
    "df_user_tweets = pd.DataFrame(df['user_name'].value_counts())\\\n",
    "                    .reset_index().rename({'index':'user_name', \n",
    "                                           'user_name':'n_tweets'}, axis='columns')\n",
    "    \n",
    "df_user_tweets.sample()"
   ]
  },
  {
   "cell_type": "code",
   "execution_count": 26,
   "metadata": {},
   "outputs": [],
   "source": [
    "# tweets of i replied\n",
    "# start with @\n",
    "tweet_i_replied = []\n",
    "\n",
    "for user in user_names:\n",
    "    n_tweets = 0\n",
    "    pattern = '@' + user.strip()\n",
    "    for text in df['text'].unique():\n",
    "        if pattern in text:\n",
    "            if text.index(pattern) == 0:\n",
    "                n_tweets = n_tweets + 1\n",
    "    \n",
    "    tweet_i_replied.append({'user_name':user, 'tweets_replied': n_tweets})"
   ]
  },
  {
   "cell_type": "code",
   "execution_count": 27,
   "metadata": {},
   "outputs": [
    {
     "data": {
      "text/html": [
       "<div>\n",
       "<style scoped>\n",
       "    .dataframe tbody tr th:only-of-type {\n",
       "        vertical-align: middle;\n",
       "    }\n",
       "\n",
       "    .dataframe tbody tr th {\n",
       "        vertical-align: top;\n",
       "    }\n",
       "\n",
       "    .dataframe thead th {\n",
       "        text-align: right;\n",
       "    }\n",
       "</style>\n",
       "<table border=\"1\" class=\"dataframe\">\n",
       "  <thead>\n",
       "    <tr style=\"text-align: right;\">\n",
       "      <th></th>\n",
       "      <th>tweets_replied</th>\n",
       "      <th>user_name</th>\n",
       "    </tr>\n",
       "  </thead>\n",
       "  <tbody>\n",
       "    <tr>\n",
       "      <th>57</th>\n",
       "      <td>0</td>\n",
       "      <td>EarlPdxPearl</td>\n",
       "    </tr>\n",
       "  </tbody>\n",
       "</table>\n",
       "</div>"
      ],
      "text/plain": [
       "    tweets_replied     user_name\n",
       "57               0  EarlPdxPearl"
      ]
     },
     "execution_count": 27,
     "metadata": {},
     "output_type": "execute_result"
    }
   ],
   "source": [
    "tweet_i_replied = pd.DataFrame(tweet_i_replied)\n",
    "tweet_i_replied.sample()"
   ]
  },
  {
   "cell_type": "markdown",
   "metadata": {},
   "source": [
    "### RTM ratio"
   ]
  },
  {
   "cell_type": "code",
   "execution_count": 28,
   "metadata": {},
   "outputs": [
    {
     "data": {
      "text/html": [
       "<div>\n",
       "<style scoped>\n",
       "    .dataframe tbody tr th:only-of-type {\n",
       "        vertical-align: middle;\n",
       "    }\n",
       "\n",
       "    .dataframe tbody tr th {\n",
       "        vertical-align: top;\n",
       "    }\n",
       "\n",
       "    .dataframe thead th {\n",
       "        text-align: right;\n",
       "    }\n",
       "</style>\n",
       "<table border=\"1\" class=\"dataframe\">\n",
       "  <thead>\n",
       "    <tr style=\"text-align: right;\">\n",
       "      <th></th>\n",
       "      <th>user_name</th>\n",
       "      <th>n_tweets</th>\n",
       "      <th>tweets_replied</th>\n",
       "      <th>rt3</th>\n",
       "    </tr>\n",
       "  </thead>\n",
       "  <tbody>\n",
       "    <tr>\n",
       "      <th>241</th>\n",
       "      <td>BostonGreekgirl</td>\n",
       "      <td>2</td>\n",
       "      <td>0</td>\n",
       "      <td>0</td>\n",
       "    </tr>\n",
       "  </tbody>\n",
       "</table>\n",
       "</div>"
      ],
      "text/plain": [
       "           user_name  n_tweets  tweets_replied  rt3\n",
       "241  BostonGreekgirl         2               0    0"
      ]
     },
     "execution_count": 28,
     "metadata": {},
     "output_type": "execute_result"
    }
   ],
   "source": [
    "df_tweets_replied = pd.merge(df_user_tweets, tweet_i_replied, how='outer', on='user_name')\n",
    "df_rtm_ratio = pd.merge(df_tweets_replied, df_rt3, how='outer', on='user_name')\n",
    "df_rtm_ratio.sample()"
   ]
  },
  {
   "cell_type": "code",
   "execution_count": 29,
   "metadata": {},
   "outputs": [],
   "source": [
    "df_rtm_ratio['rtm_ratio'] = df_rtm_ratio.apply(lambda x: (x.rt3 + x.tweets_replied)/x.n_tweets, axis=1)"
   ]
  },
  {
   "cell_type": "code",
   "execution_count": 30,
   "metadata": {},
   "outputs": [
    {
     "data": {
      "text/html": [
       "<div>\n",
       "<style scoped>\n",
       "    .dataframe tbody tr th:only-of-type {\n",
       "        vertical-align: middle;\n",
       "    }\n",
       "\n",
       "    .dataframe tbody tr th {\n",
       "        vertical-align: top;\n",
       "    }\n",
       "\n",
       "    .dataframe thead th {\n",
       "        text-align: right;\n",
       "    }\n",
       "</style>\n",
       "<table border=\"1\" class=\"dataframe\">\n",
       "  <thead>\n",
       "    <tr style=\"text-align: right;\">\n",
       "      <th></th>\n",
       "      <th>user_name</th>\n",
       "      <th>n_tweets</th>\n",
       "      <th>tweets_replied</th>\n",
       "      <th>rt3</th>\n",
       "      <th>rtm_ratio</th>\n",
       "    </tr>\n",
       "  </thead>\n",
       "  <tbody>\n",
       "    <tr>\n",
       "      <th>255</th>\n",
       "      <td>Kanedanny09</td>\n",
       "      <td>1</td>\n",
       "      <td>0</td>\n",
       "      <td>0</td>\n",
       "      <td>0.0</td>\n",
       "    </tr>\n",
       "  </tbody>\n",
       "</table>\n",
       "</div>"
      ],
      "text/plain": [
       "       user_name  n_tweets  tweets_replied  rt3  rtm_ratio\n",
       "255  Kanedanny09         1               0    0        0.0"
      ]
     },
     "execution_count": 30,
     "metadata": {},
     "output_type": "execute_result"
    }
   ],
   "source": [
    "df_rtm_ratio.sample()"
   ]
  },
  {
   "cell_type": "markdown",
   "metadata": {},
   "source": [
    "### SNP"
   ]
  },
  {
   "cell_type": "code",
   "execution_count": 31,
   "metadata": {},
   "outputs": [
    {
     "data": {
      "text/html": [
       "<div>\n",
       "<style scoped>\n",
       "    .dataframe tbody tr th:only-of-type {\n",
       "        vertical-align: middle;\n",
       "    }\n",
       "\n",
       "    .dataframe tbody tr th {\n",
       "        vertical-align: top;\n",
       "    }\n",
       "\n",
       "    .dataframe thead th {\n",
       "        text-align: right;\n",
       "    }\n",
       "</style>\n",
       "<table border=\"1\" class=\"dataframe\">\n",
       "  <thead>\n",
       "    <tr style=\"text-align: right;\">\n",
       "      <th></th>\n",
       "      <th>followers_count</th>\n",
       "      <th>user_name</th>\n",
       "      <th>rt3_x</th>\n",
       "      <th>m4</th>\n",
       "      <th>interactor_ratio</th>\n",
       "      <th>n_tweets</th>\n",
       "      <th>tweets_replied</th>\n",
       "      <th>rt3_y</th>\n",
       "      <th>rtm_ratio</th>\n",
       "    </tr>\n",
       "  </thead>\n",
       "  <tbody>\n",
       "    <tr>\n",
       "      <th>194</th>\n",
       "      <td>1215.0</td>\n",
       "      <td>KatiaPriceless</td>\n",
       "      <td>0</td>\n",
       "      <td>0</td>\n",
       "      <td>0.0</td>\n",
       "      <td>10</td>\n",
       "      <td>0</td>\n",
       "      <td>0</td>\n",
       "      <td>0.0</td>\n",
       "    </tr>\n",
       "  </tbody>\n",
       "</table>\n",
       "</div>"
      ],
      "text/plain": [
       "     followers_count       user_name  rt3_x  m4  interactor_ratio  n_tweets  \\\n",
       "194           1215.0  KatiaPriceless      0   0               0.0        10   \n",
       "\n",
       "     tweets_replied  rt3_y  rtm_ratio  \n",
       "194               0      0        0.0  "
      ]
     },
     "execution_count": 31,
     "metadata": {},
     "output_type": "execute_result"
    }
   ],
   "source": [
    "df_snp = pd.merge(df_ir, df_rtm_ratio, how='outer', on='user_name')\n",
    "df_snp = df_snp.fillna(0)\n",
    "df_snp.sample()"
   ]
  },
  {
   "cell_type": "code",
   "execution_count": 32,
   "metadata": {},
   "outputs": [],
   "source": [
    "df_snp['SNP'] = (df_snp['interactor_ratio'] + df_snp['rtm_ratio'])/2"
   ]
  },
  {
   "cell_type": "code",
   "execution_count": 33,
   "metadata": {},
   "outputs": [
    {
     "data": {
      "text/html": [
       "<div>\n",
       "<style scoped>\n",
       "    .dataframe tbody tr th:only-of-type {\n",
       "        vertical-align: middle;\n",
       "    }\n",
       "\n",
       "    .dataframe tbody tr th {\n",
       "        vertical-align: top;\n",
       "    }\n",
       "\n",
       "    .dataframe thead th {\n",
       "        text-align: right;\n",
       "    }\n",
       "</style>\n",
       "<table border=\"1\" class=\"dataframe\">\n",
       "  <thead>\n",
       "    <tr style=\"text-align: right;\">\n",
       "      <th></th>\n",
       "      <th>followers_count</th>\n",
       "      <th>user_name</th>\n",
       "      <th>rt3_x</th>\n",
       "      <th>m4</th>\n",
       "      <th>interactor_ratio</th>\n",
       "      <th>n_tweets</th>\n",
       "      <th>tweets_replied</th>\n",
       "      <th>rt3_y</th>\n",
       "      <th>rtm_ratio</th>\n",
       "      <th>SNP</th>\n",
       "    </tr>\n",
       "  </thead>\n",
       "  <tbody>\n",
       "    <tr>\n",
       "      <th>71</th>\n",
       "      <td>171.0</td>\n",
       "      <td>ModestDweeb</td>\n",
       "      <td>0</td>\n",
       "      <td>0</td>\n",
       "      <td>0.0</td>\n",
       "      <td>33</td>\n",
       "      <td>0</td>\n",
       "      <td>0</td>\n",
       "      <td>0.0</td>\n",
       "      <td>0.0</td>\n",
       "    </tr>\n",
       "  </tbody>\n",
       "</table>\n",
       "</div>"
      ],
      "text/plain": [
       "    followers_count    user_name  rt3_x  m4  interactor_ratio  n_tweets  \\\n",
       "71            171.0  ModestDweeb      0   0               0.0        33   \n",
       "\n",
       "    tweets_replied  rt3_y  rtm_ratio  SNP  \n",
       "71               0      0        0.0  0.0  "
      ]
     },
     "execution_count": 33,
     "metadata": {},
     "output_type": "execute_result"
    }
   ],
   "source": [
    "df_snp.sort_values('SNP', ascending=False).sample()"
   ]
  }
 ],
 "metadata": {
  "kernelspec": {
   "display_name": "Python 3",
   "language": "python",
   "name": "python3"
  },
  "language_info": {
   "codemirror_mode": {
    "name": "ipython",
    "version": 3
   },
   "file_extension": ".py",
   "mimetype": "text/x-python",
   "name": "python",
   "nbconvert_exporter": "python",
   "pygments_lexer": "ipython3",
   "version": "3.5.2"
  }
 },
 "nbformat": 4,
 "nbformat_minor": 2
}
