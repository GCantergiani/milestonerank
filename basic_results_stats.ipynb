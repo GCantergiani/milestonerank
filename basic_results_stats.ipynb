{
 "cells": [
  {
   "cell_type": "code",
   "execution_count": 7,
   "metadata": {},
   "outputs": [],
   "source": [
    "%matplotlib inline\n",
    "\n",
    "import datetime as dt\n",
    "import matplotlib\n",
    "import matplotlib.pyplot as plt\n",
    "\n",
    "import pandas as pd\n",
    "import seaborn as sns"
   ]
  },
  {
   "cell_type": "code",
   "execution_count": 8,
   "metadata": {},
   "outputs": [
    {
     "data": {
      "text/html": [
       "<div>\n",
       "<style scoped>\n",
       "    .dataframe tbody tr th:only-of-type {\n",
       "        vertical-align: middle;\n",
       "    }\n",
       "\n",
       "    .dataframe tbody tr th {\n",
       "        vertical-align: top;\n",
       "    }\n",
       "\n",
       "    .dataframe thead th {\n",
       "        text-align: right;\n",
       "    }\n",
       "</style>\n",
       "<table border=\"1\" class=\"dataframe\">\n",
       "  <thead>\n",
       "    <tr style=\"text-align: right;\">\n",
       "      <th></th>\n",
       "      <th>user_name</th>\n",
       "      <th>general_activity</th>\n",
       "      <th>milestonesrank</th>\n",
       "      <th>baseline</th>\n",
       "      <th>milestonesrank_25_int</th>\n",
       "      <th>milestonesrank_75_int</th>\n",
       "      <th>milestonesrank_0_int</th>\n",
       "      <th>milestonesrank_1_int</th>\n",
       "    </tr>\n",
       "  </thead>\n",
       "  <tbody>\n",
       "    <tr>\n",
       "      <th>769</th>\n",
       "      <td>CraftyVivi</td>\n",
       "      <td>1.0</td>\n",
       "      <td>0.169412</td>\n",
       "      <td>1.0</td>\n",
       "      <td>0.114118</td>\n",
       "      <td>0.224706</td>\n",
       "      <td>0.058824</td>\n",
       "      <td>0.28</td>\n",
       "    </tr>\n",
       "  </tbody>\n",
       "</table>\n",
       "</div>"
      ],
      "text/plain": [
       "      user_name  general_activity  milestonesrank  baseline  \\\n",
       "769  CraftyVivi               1.0        0.169412       1.0   \n",
       "\n",
       "     milestonesrank_25_int  milestonesrank_75_int  milestonesrank_0_int  \\\n",
       "769               0.114118               0.224706              0.058824   \n",
       "\n",
       "     milestonesrank_1_int  \n",
       "769                  0.28  "
      ]
     },
     "execution_count": 8,
     "metadata": {},
     "output_type": "execute_result"
    }
   ],
   "source": [
    "df = pd.read_csv('all_metrics.csv')\n",
    "df.sample()"
   ]
  },
  {
   "cell_type": "markdown",
   "metadata": {},
   "source": [
    "## Correlation"
   ]
  },
  {
   "cell_type": "code",
   "execution_count": 9,
   "metadata": {},
   "outputs": [
    {
     "data": {
      "text/html": [
       "<div>\n",
       "<style scoped>\n",
       "    .dataframe tbody tr th:only-of-type {\n",
       "        vertical-align: middle;\n",
       "    }\n",
       "\n",
       "    .dataframe tbody tr th {\n",
       "        vertical-align: top;\n",
       "    }\n",
       "\n",
       "    .dataframe thead th {\n",
       "        text-align: right;\n",
       "    }\n",
       "</style>\n",
       "<table border=\"1\" class=\"dataframe\">\n",
       "  <thead>\n",
       "    <tr style=\"text-align: right;\">\n",
       "      <th></th>\n",
       "      <th>general_activity</th>\n",
       "      <th>milestonesrank</th>\n",
       "      <th>baseline</th>\n",
       "      <th>milestonesrank_25_int</th>\n",
       "      <th>milestonesrank_75_int</th>\n",
       "      <th>milestonesrank_0_int</th>\n",
       "      <th>milestonesrank_1_int</th>\n",
       "    </tr>\n",
       "  </thead>\n",
       "  <tbody>\n",
       "    <tr>\n",
       "      <th>general_activity</th>\n",
       "      <td>1.000000</td>\n",
       "      <td>-0.217023</td>\n",
       "      <td>0.591215</td>\n",
       "      <td>-0.243995</td>\n",
       "      <td>-0.187552</td>\n",
       "      <td>-0.267342</td>\n",
       "      <td>-0.159988</td>\n",
       "    </tr>\n",
       "    <tr>\n",
       "      <th>milestonesrank</th>\n",
       "      <td>-0.217023</td>\n",
       "      <td>1.000000</td>\n",
       "      <td>0.045797</td>\n",
       "      <td>0.894959</td>\n",
       "      <td>0.900931</td>\n",
       "      <td>0.654369</td>\n",
       "      <td>0.680810</td>\n",
       "    </tr>\n",
       "    <tr>\n",
       "      <th>baseline</th>\n",
       "      <td>0.591215</td>\n",
       "      <td>0.045797</td>\n",
       "      <td>1.000000</td>\n",
       "      <td>0.011278</td>\n",
       "      <td>0.082603</td>\n",
       "      <td>-0.072130</td>\n",
       "      <td>0.119796</td>\n",
       "    </tr>\n",
       "    <tr>\n",
       "      <th>milestonesrank_25_int</th>\n",
       "      <td>-0.243995</td>\n",
       "      <td>0.894959</td>\n",
       "      <td>0.011278</td>\n",
       "      <td>1.000000</td>\n",
       "      <td>0.795799</td>\n",
       "      <td>0.760009</td>\n",
       "      <td>0.564091</td>\n",
       "    </tr>\n",
       "    <tr>\n",
       "      <th>milestonesrank_75_int</th>\n",
       "      <td>-0.187552</td>\n",
       "      <td>0.900931</td>\n",
       "      <td>0.082603</td>\n",
       "      <td>0.795799</td>\n",
       "      <td>1.000000</td>\n",
       "      <td>0.554747</td>\n",
       "      <td>0.790811</td>\n",
       "    </tr>\n",
       "    <tr>\n",
       "      <th>milestonesrank_0_int</th>\n",
       "      <td>-0.267342</td>\n",
       "      <td>0.654369</td>\n",
       "      <td>-0.072130</td>\n",
       "      <td>0.760009</td>\n",
       "      <td>0.554747</td>\n",
       "      <td>1.000000</td>\n",
       "      <td>0.294949</td>\n",
       "    </tr>\n",
       "    <tr>\n",
       "      <th>milestonesrank_1_int</th>\n",
       "      <td>-0.159988</td>\n",
       "      <td>0.680810</td>\n",
       "      <td>0.119796</td>\n",
       "      <td>0.564091</td>\n",
       "      <td>0.790811</td>\n",
       "      <td>0.294949</td>\n",
       "      <td>1.000000</td>\n",
       "    </tr>\n",
       "  </tbody>\n",
       "</table>\n",
       "</div>"
      ],
      "text/plain": [
       "                       general_activity  milestonesrank  baseline  \\\n",
       "general_activity               1.000000       -0.217023  0.591215   \n",
       "milestonesrank                -0.217023        1.000000  0.045797   \n",
       "baseline                       0.591215        0.045797  1.000000   \n",
       "milestonesrank_25_int         -0.243995        0.894959  0.011278   \n",
       "milestonesrank_75_int         -0.187552        0.900931  0.082603   \n",
       "milestonesrank_0_int          -0.267342        0.654369 -0.072130   \n",
       "milestonesrank_1_int          -0.159988        0.680810  0.119796   \n",
       "\n",
       "                       milestonesrank_25_int  milestonesrank_75_int  \\\n",
       "general_activity                   -0.243995              -0.187552   \n",
       "milestonesrank                      0.894959               0.900931   \n",
       "baseline                            0.011278               0.082603   \n",
       "milestonesrank_25_int               1.000000               0.795799   \n",
       "milestonesrank_75_int               0.795799               1.000000   \n",
       "milestonesrank_0_int                0.760009               0.554747   \n",
       "milestonesrank_1_int                0.564091               0.790811   \n",
       "\n",
       "                       milestonesrank_0_int  milestonesrank_1_int  \n",
       "general_activity                  -0.267342             -0.159988  \n",
       "milestonesrank                     0.654369              0.680810  \n",
       "baseline                          -0.072130              0.119796  \n",
       "milestonesrank_25_int              0.760009              0.564091  \n",
       "milestonesrank_75_int              0.554747              0.790811  \n",
       "milestonesrank_0_int               1.000000              0.294949  \n",
       "milestonesrank_1_int               0.294949              1.000000  "
      ]
     },
     "execution_count": 9,
     "metadata": {},
     "output_type": "execute_result"
    }
   ],
   "source": [
    "df.corr(method='kendall')"
   ]
  },
  {
   "cell_type": "code",
   "execution_count": 10,
   "metadata": {},
   "outputs": [
    {
     "data": {
      "text/plain": [
       "<matplotlib.axes._subplots.AxesSubplot at 0x7f8accbb2400>"
      ]
     },
     "execution_count": 10,
     "metadata": {},
     "output_type": "execute_result"
    },
    {
     "data": {
      "image/png": "[encoded data removed]",
      "text/plain": [
       "<matplotlib.figure.Figure at 0x7f8accbca3c8>"
      ]
     },
     "metadata": {},
     "output_type": "display_data"
    }
   ],
   "source": [
    "sns.heatmap(df.corr(method='kendall'))"
   ]
  },
  {
   "cell_type": "markdown",
   "metadata": {},
   "source": [
    "## Stats"
   ]
  },
  {
   "cell_type": "code",
   "execution_count": 34,
   "metadata": {},
   "outputs": [],
   "source": [
    "# Normalize\n",
    "for column in df.columns[1:]:\n",
    "    df[column] = df[column]/df[column].max()"
   ]
  },
  {
   "cell_type": "code",
   "execution_count": 35,
   "metadata": {},
   "outputs": [
    {
     "data": {
      "text/html": [
       "<div>\n",
       "<style scoped>\n",
       "    .dataframe tbody tr th:only-of-type {\n",
       "        vertical-align: middle;\n",
       "    }\n",
       "\n",
       "    .dataframe tbody tr th {\n",
       "        vertical-align: top;\n",
       "    }\n",
       "\n",
       "    .dataframe thead th {\n",
       "        text-align: right;\n",
       "    }\n",
       "</style>\n",
       "<table border=\"1\" class=\"dataframe\">\n",
       "  <thead>\n",
       "    <tr style=\"text-align: right;\">\n",
       "      <th></th>\n",
       "      <th>general_activity</th>\n",
       "      <th>milestonesrank</th>\n",
       "      <th>baseline</th>\n",
       "      <th>milestonesrank_25_int</th>\n",
       "      <th>milestonesrank_75_int</th>\n",
       "      <th>milestonesrank_0_int</th>\n",
       "      <th>milestonesrank_1_int</th>\n",
       "    </tr>\n",
       "  </thead>\n",
       "  <tbody>\n",
       "    <tr>\n",
       "      <th>count</th>\n",
       "      <td>829.000</td>\n",
       "      <td>254.000</td>\n",
       "      <td>254.000</td>\n",
       "      <td>254.000</td>\n",
       "      <td>254.000</td>\n",
       "      <td>254.000</td>\n",
       "      <td>254.000</td>\n",
       "    </tr>\n",
       "    <tr>\n",
       "      <th>mean</th>\n",
       "      <td>0.012</td>\n",
       "      <td>0.261</td>\n",
       "      <td>0.058</td>\n",
       "      <td>0.178</td>\n",
       "      <td>0.321</td>\n",
       "      <td>0.120</td>\n",
       "      <td>0.292</td>\n",
       "    </tr>\n",
       "    <tr>\n",
       "      <th>std</th>\n",
       "      <td>0.047</td>\n",
       "      <td>0.204</td>\n",
       "      <td>0.102</td>\n",
       "      <td>0.205</td>\n",
       "      <td>0.208</td>\n",
       "      <td>0.221</td>\n",
       "      <td>0.195</td>\n",
       "    </tr>\n",
       "    <tr>\n",
       "      <th>min</th>\n",
       "      <td>0.006</td>\n",
       "      <td>0.000</td>\n",
       "      <td>0.036</td>\n",
       "      <td>0.000</td>\n",
       "      <td>0.000</td>\n",
       "      <td>0.000</td>\n",
       "      <td>0.000</td>\n",
       "    </tr>\n",
       "    <tr>\n",
       "      <th>25%</th>\n",
       "      <td>0.006</td>\n",
       "      <td>0.127</td>\n",
       "      <td>0.036</td>\n",
       "      <td>0.065</td>\n",
       "      <td>0.133</td>\n",
       "      <td>0.018</td>\n",
       "      <td>0.095</td>\n",
       "    </tr>\n",
       "    <tr>\n",
       "      <th>50%</th>\n",
       "      <td>0.006</td>\n",
       "      <td>0.256</td>\n",
       "      <td>0.036</td>\n",
       "      <td>0.134</td>\n",
       "      <td>0.337</td>\n",
       "      <td>0.038</td>\n",
       "      <td>0.333</td>\n",
       "    </tr>\n",
       "    <tr>\n",
       "      <th>75%</th>\n",
       "      <td>0.006</td>\n",
       "      <td>0.328</td>\n",
       "      <td>0.036</td>\n",
       "      <td>0.191</td>\n",
       "      <td>0.468</td>\n",
       "      <td>0.100</td>\n",
       "      <td>0.476</td>\n",
       "    </tr>\n",
       "    <tr>\n",
       "      <th>max</th>\n",
       "      <td>1.000</td>\n",
       "      <td>1.000</td>\n",
       "      <td>1.000</td>\n",
       "      <td>1.000</td>\n",
       "      <td>1.000</td>\n",
       "      <td>1.000</td>\n",
       "      <td>1.000</td>\n",
       "    </tr>\n",
       "  </tbody>\n",
       "</table>\n",
       "</div>"
      ],
      "text/plain": [
       "       general_activity  milestonesrank  baseline  milestonesrank_25_int  \\\n",
       "count           829.000         254.000   254.000                254.000   \n",
       "mean              0.012           0.261     0.058                  0.178   \n",
       "std               0.047           0.204     0.102                  0.205   \n",
       "min               0.006           0.000     0.036                  0.000   \n",
       "25%               0.006           0.127     0.036                  0.065   \n",
       "50%               0.006           0.256     0.036                  0.134   \n",
       "75%               0.006           0.328     0.036                  0.191   \n",
       "max               1.000           1.000     1.000                  1.000   \n",
       "\n",
       "       milestonesrank_75_int  milestonesrank_0_int  milestonesrank_1_int  \n",
       "count                254.000               254.000               254.000  \n",
       "mean                   0.321                 0.120                 0.292  \n",
       "std                    0.208                 0.221                 0.195  \n",
       "min                    0.000                 0.000                 0.000  \n",
       "25%                    0.133                 0.018                 0.095  \n",
       "50%                    0.337                 0.038                 0.333  \n",
       "75%                    0.468                 0.100                 0.476  \n",
       "max                    1.000                 1.000                 1.000  "
      ]
     },
     "execution_count": 35,
     "metadata": {},
     "output_type": "execute_result"
    }
   ],
   "source": [
    "df.describe().round(3)"
   ]
  },
  {
   "cell_type": "code",
   "execution_count": 36,
   "metadata": {},
   "outputs": [
    {
     "name": "stdout",
     "output_type": "stream",
     "text": [
      "Metric: general_activity\t\t\t Unique Values: 19\n",
      "Metric: milestonesrank\t\t\t Unique Values: 144\n",
      "Metric: baseline\t\t\t Unique Values: 11\n",
      "Metric: milestonesrank_25_int\t\t\t Unique Values: 144\n",
      "Metric: milestonesrank_75_int\t\t\t Unique Values: 146\n",
      "Metric: milestonesrank_0_int\t\t\t Unique Values: 71\n",
      "Metric: milestonesrank_1_int\t\t\t Unique Values: 11\n"
     ]
    }
   ],
   "source": [
    "for column in df.columns[1:]:\n",
    "    print('Metric: {}\\t\\t\\t Unique Values: {}'.format(column, len(df[column].value_counts())))"
   ]
  }
 ],
 "metadata": {
  "kernelspec": {
   "display_name": "Python 3",
   "language": "python",
   "name": "python3"
  },
  "language_info": {
   "codemirror_mode": {
    "name": "ipython",
    "version": 3
   },
   "file_extension": ".py",
   "mimetype": "text/x-python",
   "name": "python",
   "nbconvert_exporter": "python",
   "pygments_lexer": "ipython3",
   "version": "3.5.2"
  }
 },
 "nbformat": 4,
 "nbformat_minor": 2
}
